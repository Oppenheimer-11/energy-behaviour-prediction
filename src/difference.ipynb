{
 "cells": [
  {
   "cell_type": "code",
   "execution_count": 44,
   "id": "ede38df3-9cc3-4f5e-8874-833363414646",
   "metadata": {
    "tags": []
   },
   "outputs": [],
   "source": [
    "import pandas as pd\n",
    "import numpy as np\n",
    "import warnings\n",
    "warnings.filterwarnings('ignore')"
   ]
  },
  {
   "cell_type": "code",
   "execution_count": 41,
   "id": "10ef0390-4d87-4810-bdf5-3cad99a06a90",
   "metadata": {
    "tags": []
   },
   "outputs": [],
   "source": [
    "raw_data = pd.read_csv('adding_previous15_data.csv')"
   ]
  },
  {
   "cell_type": "code",
   "execution_count": 42,
   "id": "4d274431-9c21-4bff-8301-5872c2c3b67c",
   "metadata": {
    "tags": []
   },
   "outputs": [],
   "source": [
    "data = raw_data[raw_data['is_consumption'] == 1]"
   ]
  },
  {
   "cell_type": "code",
   "execution_count": 34,
   "id": "bd8db8f7-827e-4df6-90ca-5266852c3698",
   "metadata": {
    "tags": []
   },
   "outputs": [
    {
     "data": {
      "text/plain": [
       "Index(['county', 'is_business', 'product_type', 'target', 'is_consumption',\n",
       "       'datetime', 'data_block_id', 'row_id', 'prediction_unit_id', 'date',\n",
       "       'year', 'quarter', 'month', 'week', 'hour', 'day_of_year',\n",
       "       'day_of_month', 'day_of_week', 'eic_count_client',\n",
       "       'installed_capacity_client', 'date_client', 'temperature_h_mean',\n",
       "       'dewpoint_h_mean', 'rain_h_mean', 'snowfall_h_mean',\n",
       "       'surface_pressure_h_mean', 'cloudcover_total_h_mean',\n",
       "       'cloudcover_low_h_mean', 'cloudcover_mid_h_mean',\n",
       "       'cloudcover_high_h_mean', 'windspeed_10m_h_mean',\n",
       "       'winddirection_10m_h_mean', 'shortwave_radiation_h_mean',\n",
       "       'direct_solar_radiation_h_mean', 'diffuse_radiation_h_mean', 'hour_h',\n",
       "       'hours_ahead_f_mean', 'temperature_f_mean', 'dewpoint_f_mean',\n",
       "       'cloudcover_high_f_mean', 'cloudcover_low_f_mean',\n",
       "       'cloudcover_mid_f_mean', 'cloudcover_total_f_mean',\n",
       "       '10_metre_u_wind_component_f_mean', '10_metre_v_wind_component_f_mean',\n",
       "       'direct_solar_radiation_f_mean',\n",
       "       'surface_solar_radiation_downwards_f_mean', 'snowfall_f_mean',\n",
       "       'total_precipitation_f_mean', 'forecast_date_electricity',\n",
       "       'euros_per_mwh_electricity', 'origin_date_electricity',\n",
       "       'forecast_date_gas', 'lowest_price_per_mwh_gas',\n",
       "       'highest_price_per_mwh_gas', 'origin_date_gas',\n",
       "       'mean_price_per_mwh_gas', 'target_2_days_ago', 'target_3_days_ago',\n",
       "       'target_4_days_ago', 'target_5_days_ago', 'target_6_days_ago',\n",
       "       'target_7_days_ago', 'target_8_days_ago', 'target_9_days_ago',\n",
       "       'target_10_days_ago', 'target_11_days_ago', 'target_12_days_ago',\n",
       "       'target_13_days_ago', 'target_14_days_ago', 'target_15_days_ago'],\n",
       "      dtype='object')"
      ]
     },
     "execution_count": 34,
     "metadata": {},
     "output_type": "execute_result"
    }
   ],
   "source": [
    "data.columns"
   ]
  },
  {
   "cell_type": "code",
   "execution_count": 51,
   "id": "846d3150-8591-40ca-83f5-9becbebf9e71",
   "metadata": {
    "tags": []
   },
   "outputs": [],
   "source": [
    "columns_to_difference = [\n",
    "    'temperature_h_mean', 'dewpoint_h_mean', 'rain_h_mean', 'snowfall_h_mean', 'surface_pressure_h_mean',\n",
    "    'cloudcover_total_h_mean', 'cloudcover_low_h_mean', 'cloudcover_mid_h_mean', 'cloudcover_high_h_mean',\n",
    "    'windspeed_10m_h_mean', 'winddirection_10m_h_mean', 'shortwave_radiation_h_mean',\n",
    "    'direct_solar_radiation_h_mean', 'diffuse_radiation_h_mean','temperature_f_mean', 'dewpoint_f_mean',\n",
    "    'cloudcover_high_f_mean', 'cloudcover_low_f_mean', 'cloudcover_mid_f_mean', 'cloudcover_total_f_mean',\n",
    "    '10_metre_u_wind_component_f_mean', '10_metre_v_wind_component_f_mean', 'direct_solar_radiation_f_mean',\n",
    "    'surface_solar_radiation_downwards_f_mean', 'snowfall_f_mean','target',\n",
    "    'target_2_days_ago', 'target_3_days_ago',\n",
    "    'target_4_days_ago', 'target_5_days_ago', 'target_6_days_ago',\n",
    "    'target_7_days_ago', 'target_8_days_ago', 'target_9_days_ago',\n",
    "    'target_10_days_ago', 'target_11_days_ago', 'target_12_days_ago',\n",
    "    'target_13_days_ago', 'target_14_days_ago', 'target_15_days_ago'\n",
    "    # Add the names of the columns you want to difference here\n",
    "]\n",
    "# Define the window size for differencing (e.g., 90 days)\n",
    "window_size = 90\n",
    "\n",
    "# Calculate the rolling mean for each specified column\n",
    "for column in columns_to_difference:\n",
    "    data[f'{column}_rolling_mean'] = data.groupby('prediction_unit_id')[column].transform(lambda x: x.rolling(window=window_size).mean())\n",
    "\n",
    "# Calculate the differences and store them in new columns\n",
    "for column in columns_to_difference:\n",
    "    data[f'{column}_differenced'] = data[column] - data[f'{column}_rolling_mean']\n",
    "\n",
    "# Drop the intermediate rolling mean columns if not needed\n",
    "for column in columns_to_difference:\n",
    "    data.drop(columns=[f'{column}_rolling_mean'], inplace=True)\n",
    "    \n",
    "data.dropna(inplace=True)\n"
   ]
  },
  {
   "cell_type": "code",
   "execution_count": 52,
   "id": "63122bf5-3276-4de9-bf67-acbbcef0ed51",
   "metadata": {
    "tags": []
   },
   "outputs": [],
   "source": [
    "columns_to_difference.remove('target')\n",
    "columns_drop = columns_to_difference+['date', 'year', 'quarter', 'month', 'week', 'hour', 'day_of_year','day_of_month', 'day_of_week', 'data_block_id', 'row_id','hour_h', 'hours_ahead_f_mean']\n",
    "data.drop(columns=columns_drop, inplace=True)"
   ]
  },
  {
   "cell_type": "code",
   "execution_count": 54,
   "id": "2205150f-ddea-4a66-a906-53059937dd3c",
   "metadata": {
    "tags": []
   },
   "outputs": [
    {
     "data": {
      "text/plain": [
       "Index(['county', 'is_business', 'product_type', 'target', 'is_consumption',\n",
       "       'datetime', 'prediction_unit_id', 'eic_count_client',\n",
       "       'installed_capacity_client', 'date_client',\n",
       "       'total_precipitation_f_mean', 'forecast_date_electricity',\n",
       "       'euros_per_mwh_electricity', 'origin_date_electricity',\n",
       "       'forecast_date_gas', 'lowest_price_per_mwh_gas',\n",
       "       'highest_price_per_mwh_gas', 'origin_date_gas',\n",
       "       'mean_price_per_mwh_gas', 'temperature_h_mean_differenced',\n",
       "       'dewpoint_h_mean_differenced', 'rain_h_mean_differenced',\n",
       "       'snowfall_h_mean_differenced', 'surface_pressure_h_mean_differenced',\n",
       "       'cloudcover_total_h_mean_differenced',\n",
       "       'cloudcover_low_h_mean_differenced',\n",
       "       'cloudcover_mid_h_mean_differenced',\n",
       "       'cloudcover_high_h_mean_differenced',\n",
       "       'windspeed_10m_h_mean_differenced',\n",
       "       'winddirection_10m_h_mean_differenced',\n",
       "       'shortwave_radiation_h_mean_differenced',\n",
       "       'direct_solar_radiation_h_mean_differenced',\n",
       "       'diffuse_radiation_h_mean_differenced',\n",
       "       'temperature_f_mean_differenced', 'dewpoint_f_mean_differenced',\n",
       "       'cloudcover_high_f_mean_differenced',\n",
       "       'cloudcover_low_f_mean_differenced',\n",
       "       'cloudcover_mid_f_mean_differenced',\n",
       "       'cloudcover_total_f_mean_differenced',\n",
       "       '10_metre_u_wind_component_f_mean_differenced',\n",
       "       '10_metre_v_wind_component_f_mean_differenced',\n",
       "       'direct_solar_radiation_f_mean_differenced',\n",
       "       'surface_solar_radiation_downwards_f_mean_differenced',\n",
       "       'snowfall_f_mean_differenced', 'target_differenced',\n",
       "       'target_2_days_ago_differenced', 'target_3_days_ago_differenced',\n",
       "       'target_4_days_ago_differenced', 'target_5_days_ago_differenced',\n",
       "       'target_6_days_ago_differenced', 'target_7_days_ago_differenced',\n",
       "       'target_8_days_ago_differenced', 'target_9_days_ago_differenced',\n",
       "       'target_10_days_ago_differenced', 'target_11_days_ago_differenced',\n",
       "       'target_12_days_ago_differenced', 'target_13_days_ago_differenced',\n",
       "       'target_14_days_ago_differenced', 'target_15_days_ago_differenced'],\n",
       "      dtype='object')"
      ]
     },
     "execution_count": 54,
     "metadata": {},
     "output_type": "execute_result"
    }
   ],
   "source": [
    "data.columns"
   ]
  },
  {
   "cell_type": "code",
   "execution_count": 55,
   "id": "c621fe3d-e499-4574-8138-0f68538bd5dc",
   "metadata": {
    "tags": []
   },
   "outputs": [],
   "source": [
    "data.to_csv('differenced.csv')"
   ]
  }
 ],
 "metadata": {
  "kernelspec": {
   "display_name": "nlp_project",
   "language": "python",
   "name": "nlp_project"
  },
  "language_info": {
   "codemirror_mode": {
    "name": "ipython",
    "version": 3
   },
   "file_extension": ".py",
   "mimetype": "text/x-python",
   "name": "python",
   "nbconvert_exporter": "python",
   "pygments_lexer": "ipython3",
   "version": "3.10.13"
  }
 },
 "nbformat": 4,
 "nbformat_minor": 5
}
